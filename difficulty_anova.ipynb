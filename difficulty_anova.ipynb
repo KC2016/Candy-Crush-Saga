{
 "cells": [
  {
   "cell_type": "code",
   "execution_count": 1,
   "id": "4e8614ac",
   "metadata": {},
   "outputs": [],
   "source": [
    "import pandas as pd\n",
    "import numpy as np\n",
    "# import matplotlib.pyplot as plt\n",
    "# from mpl_toolkits.mplot3d import Axes3D\n",
    "# from scipy.stats import t\n",
    "from scipy.stats import f_oneway"
   ]
  },
  {
   "cell_type": "code",
   "execution_count": 2,
   "id": "d997edf5",
   "metadata": {},
   "outputs": [
    {
     "data": {
      "text/html": [
       "<div>\n",
       "<style scoped>\n",
       "    .dataframe tbody tr th:only-of-type {\n",
       "        vertical-align: middle;\n",
       "    }\n",
       "\n",
       "    .dataframe tbody tr th {\n",
       "        vertical-align: top;\n",
       "    }\n",
       "\n",
       "    .dataframe thead th {\n",
       "        text-align: right;\n",
       "    }\n",
       "</style>\n",
       "<table border=\"1\" class=\"dataframe\">\n",
       "  <thead>\n",
       "    <tr style=\"text-align: right;\">\n",
       "      <th></th>\n",
       "      <th>player_id</th>\n",
       "      <th>dt</th>\n",
       "      <th>level</th>\n",
       "      <th>num_attempts</th>\n",
       "      <th>num_success</th>\n",
       "    </tr>\n",
       "  </thead>\n",
       "  <tbody>\n",
       "    <tr>\n",
       "      <th>0</th>\n",
       "      <td>6dd5af4c7228fa353d505767143f5815</td>\n",
       "      <td>2014-01-04</td>\n",
       "      <td>4</td>\n",
       "      <td>3</td>\n",
       "      <td>1</td>\n",
       "    </tr>\n",
       "    <tr>\n",
       "      <th>1</th>\n",
       "      <td>c7ec97c39349ab7e4d39b4f74062ec13</td>\n",
       "      <td>2014-01-01</td>\n",
       "      <td>8</td>\n",
       "      <td>4</td>\n",
       "      <td>1</td>\n",
       "    </tr>\n",
       "    <tr>\n",
       "      <th>2</th>\n",
       "      <td>c7ec97c39349ab7e4d39b4f74062ec13</td>\n",
       "      <td>2014-01-05</td>\n",
       "      <td>12</td>\n",
       "      <td>6</td>\n",
       "      <td>0</td>\n",
       "    </tr>\n",
       "    <tr>\n",
       "      <th>3</th>\n",
       "      <td>a32c5e9700ed356dc8dd5bb3230c5227</td>\n",
       "      <td>2014-01-03</td>\n",
       "      <td>11</td>\n",
       "      <td>1</td>\n",
       "      <td>1</td>\n",
       "    </tr>\n",
       "    <tr>\n",
       "      <th>4</th>\n",
       "      <td>a32c5e9700ed356dc8dd5bb3230c5227</td>\n",
       "      <td>2014-01-07</td>\n",
       "      <td>15</td>\n",
       "      <td>6</td>\n",
       "      <td>0</td>\n",
       "    </tr>\n",
       "  </tbody>\n",
       "</table>\n",
       "</div>"
      ],
      "text/plain": [
       "                          player_id          dt  level  num_attempts  \\\n",
       "0  6dd5af4c7228fa353d505767143f5815  2014-01-04      4             3   \n",
       "1  c7ec97c39349ab7e4d39b4f74062ec13  2014-01-01      8             4   \n",
       "2  c7ec97c39349ab7e4d39b4f74062ec13  2014-01-05     12             6   \n",
       "3  a32c5e9700ed356dc8dd5bb3230c5227  2014-01-03     11             1   \n",
       "4  a32c5e9700ed356dc8dd5bb3230c5227  2014-01-07     15             6   \n",
       "\n",
       "   num_success  \n",
       "0            1  \n",
       "1            1  \n",
       "2            0  \n",
       "3            1  \n",
       "4            0  "
      ]
     },
     "execution_count": 2,
     "metadata": {},
     "output_type": "execute_result"
    }
   ],
   "source": [
    "df = pd.read_csv('data/candy_crush.csv')\n",
    "df.head()"
   ]
  },
  {
   "cell_type": "code",
   "execution_count": 3,
   "id": "e2cfc42e",
   "metadata": {},
   "outputs": [
    {
     "data": {
      "text/html": [
       "<div>\n",
       "<style scoped>\n",
       "    .dataframe tbody tr th:only-of-type {\n",
       "        vertical-align: middle;\n",
       "    }\n",
       "\n",
       "    .dataframe tbody tr th {\n",
       "        vertical-align: top;\n",
       "    }\n",
       "\n",
       "    .dataframe thead th {\n",
       "        text-align: right;\n",
       "    }\n",
       "</style>\n",
       "<table border=\"1\" class=\"dataframe\">\n",
       "  <thead>\n",
       "    <tr style=\"text-align: right;\">\n",
       "      <th></th>\n",
       "      <th>player_id</th>\n",
       "      <th>dt</th>\n",
       "      <th>level</th>\n",
       "      <th>num_attempts</th>\n",
       "      <th>num_success</th>\n",
       "      <th>difficulty</th>\n",
       "    </tr>\n",
       "  </thead>\n",
       "  <tbody>\n",
       "    <tr>\n",
       "      <th>0</th>\n",
       "      <td>6dd5af4c7228fa353d505767143f5815</td>\n",
       "      <td>2014-01-04</td>\n",
       "      <td>4</td>\n",
       "      <td>3</td>\n",
       "      <td>1</td>\n",
       "      <td>3.0</td>\n",
       "    </tr>\n",
       "    <tr>\n",
       "      <th>1</th>\n",
       "      <td>c7ec97c39349ab7e4d39b4f74062ec13</td>\n",
       "      <td>2014-01-01</td>\n",
       "      <td>8</td>\n",
       "      <td>4</td>\n",
       "      <td>1</td>\n",
       "      <td>4.0</td>\n",
       "    </tr>\n",
       "    <tr>\n",
       "      <th>2</th>\n",
       "      <td>c7ec97c39349ab7e4d39b4f74062ec13</td>\n",
       "      <td>2014-01-05</td>\n",
       "      <td>12</td>\n",
       "      <td>6</td>\n",
       "      <td>0</td>\n",
       "      <td>inf</td>\n",
       "    </tr>\n",
       "    <tr>\n",
       "      <th>3</th>\n",
       "      <td>a32c5e9700ed356dc8dd5bb3230c5227</td>\n",
       "      <td>2014-01-03</td>\n",
       "      <td>11</td>\n",
       "      <td>1</td>\n",
       "      <td>1</td>\n",
       "      <td>1.0</td>\n",
       "    </tr>\n",
       "    <tr>\n",
       "      <th>4</th>\n",
       "      <td>a32c5e9700ed356dc8dd5bb3230c5227</td>\n",
       "      <td>2014-01-07</td>\n",
       "      <td>15</td>\n",
       "      <td>6</td>\n",
       "      <td>0</td>\n",
       "      <td>inf</td>\n",
       "    </tr>\n",
       "  </tbody>\n",
       "</table>\n",
       "</div>"
      ],
      "text/plain": [
       "                          player_id          dt  level  num_attempts  \\\n",
       "0  6dd5af4c7228fa353d505767143f5815  2014-01-04      4             3   \n",
       "1  c7ec97c39349ab7e4d39b4f74062ec13  2014-01-01      8             4   \n",
       "2  c7ec97c39349ab7e4d39b4f74062ec13  2014-01-05     12             6   \n",
       "3  a32c5e9700ed356dc8dd5bb3230c5227  2014-01-03     11             1   \n",
       "4  a32c5e9700ed356dc8dd5bb3230c5227  2014-01-07     15             6   \n",
       "\n",
       "   num_success  difficulty  \n",
       "0            1         3.0  \n",
       "1            1         4.0  \n",
       "2            0         inf  \n",
       "3            1         1.0  \n",
       "4            0         inf  "
      ]
     },
     "execution_count": 3,
     "metadata": {},
     "output_type": "execute_result"
    }
   ],
   "source": [
    "# create a column difficulty\n",
    "df['difficulty'] = df.num_attempts/df.num_success\n",
    "df.head()"
   ]
  },
  {
   "cell_type": "code",
   "execution_count": 8,
   "id": "4bb2c618",
   "metadata": {},
   "outputs": [
    {
     "name": "stdout",
     "output_type": "stream",
     "text": [
      "<class 'pandas.core.frame.DataFrame'>\n",
      "RangeIndex: 16865 entries, 0 to 16864\n",
      "Data columns (total 6 columns):\n",
      " #   Column        Non-Null Count  Dtype  \n",
      "---  ------        --------------  -----  \n",
      " 0   player_id     16865 non-null  object \n",
      " 1   dt            16865 non-null  object \n",
      " 2   level         16865 non-null  int64  \n",
      " 3   num_attempts  16865 non-null  int64  \n",
      " 4   num_success   16865 non-null  int64  \n",
      " 5   difficulty    16865 non-null  float64\n",
      "dtypes: float64(1), int64(3), object(2)\n",
      "memory usage: 790.7+ KB\n"
     ]
    }
   ],
   "source": [
    "# replace inf by 0 in the column difficulty\n",
    "df['difficulty'] = df['difficulty'].replace([np.inf, -np.inf], 0)\n",
    "# fill nan with 0\n",
    "df = df.fillna(0)\n",
    "df.info()"
   ]
  },
  {
   "cell_type": "code",
   "execution_count": 7,
   "id": "4004277e",
   "metadata": {},
   "outputs": [
    {
     "name": "stdout",
     "output_type": "stream",
     "text": [
      "[3.00000000e+00 4.00000000e+00 0.00000000e+00 1.00000000e+00\n",
      " 8.00000000e+00 1.50000000e+01 2.00000000e+00 5.00000000e+00\n",
      " 7.00000000e+00 1.40000000e+01 9.00000000e+00 6.00000000e+00\n",
      " 1.50000000e+00 1.70000000e+01 2.80000000e+01 2.10000000e+01\n",
      " 1.00000000e+01 3.50000000e+00 1.20000000e+01 9.50000000e+00\n",
      "            nan 3.00000000e+01 1.30000000e+01 1.10000000e+01\n",
      " 4.00000000e-01 1.60000000e+01 1.80000000e+01 2.20000000e+01\n",
      " 5.00000000e-01 1.90000000e+01 2.00000000e+01 1.25000000e+00\n",
      " 2.60000000e+01 2.00000000e-01 6.66666667e-01 2.70000000e+01\n",
      " 3.20000000e+01 6.15384615e+00 3.33333333e+00 2.40000000e+01\n",
      " 2.90000000e+01 3.40000000e+01 2.30000000e+01 1.83333333e+00\n",
      " 3.60000000e+01 1.80000000e+00 2.50000000e+01 2.33333333e+00\n",
      " 4.70000000e+01 2.50000000e+00 2.50000000e-01 9.16666667e+00\n",
      " 4.00000000e+01 3.33333333e-01 5.50000000e+01 9.50000000e+01\n",
      " 2.66666667e+00 1.26086957e+00 1.33333333e+00 5.50000000e+00\n",
      " 3.10000000e+01 1.75000000e+00 5.80000000e+01 6.50000000e+00\n",
      " 8.50000000e+00 1.70000000e+00 4.30000000e+01 5.66666667e+00\n",
      " 1.54545455e+00 2.25000000e+00 3.80000000e+01 6.00000000e+01\n",
      " 6.90000000e+01 2.58000000e+02 1.66666667e+00 7.50000000e+00\n",
      " 2.37500000e+00 4.60000000e+00 1.41818182e+00 1.60000000e+00\n",
      " 6.20000000e+01 3.70000000e+01 1.38461538e+00 1.20000000e+00\n",
      " 1.88888889e+00 7.50000000e-01 3.90000000e+01 1.11111111e-01\n",
      " 4.20000000e+01 3.50000000e+01 5.20000000e+01 2.75000000e+00\n",
      " 4.80000000e+01 3.40000000e+00 1.75000000e+01 7.30000000e+01\n",
      " 1.28571429e+00 7.00000000e+01 4.33333333e+00 1.66666667e-01\n",
      " 5.00000000e+01 8.60000000e+01 5.33333333e+00 4.50000000e+01\n",
      " 1.14285714e+00 1.85714286e+00 5.71428571e-01 4.50000000e+00\n",
      " 8.80000000e+01 1.42857143e+00 1.15000000e+01 3.09090909e+00\n",
      " 4.10000000e+01 6.10000000e+01 1.19000000e+02 1.37500000e+00\n",
      " 7.60000000e+01 1.35000000e+01 3.30000000e+01 1.16666667e+00\n",
      " 3.66666667e+00]\n"
     ]
    }
   ],
   "source": [
    "unique_difficulties = df['difficulty'].unique()\n",
    "\n",
    "# Print unique values\n",
    "print(unique_difficulties)"
   ]
  },
  {
   "cell_type": "code",
   "execution_count": 9,
   "id": "f513f78c",
   "metadata": {},
   "outputs": [],
   "source": [
    "# df['difficulty'] = df['difficulty'].astype(int)"
   ]
  },
  {
   "cell_type": "code",
   "execution_count": null,
   "id": "64c397ac",
   "metadata": {},
   "outputs": [],
   "source": []
  },
  {
   "cell_type": "code",
   "execution_count": 10,
   "id": "ffbddb53",
   "metadata": {},
   "outputs": [
    {
     "name": "stdout",
     "output_type": "stream",
     "text": [
      "F-value: 11.455219773675706\n",
      "p-value: 8.262214143225648e-27\n",
      "The difficulty is significantly different across different game levels.\n"
     ]
    }
   ],
   "source": [
    "# Perform one-way ANOVA\n",
    "grouped_data = df.groupby('level')['difficulty'].apply(list)\n",
    "F, p = f_oneway(*grouped_data)\n",
    "\n",
    "# Print results\n",
    "print(\"F-value:\", F)\n",
    "print(\"p-value:\", p)\n",
    "if p < 0.05:\n",
    "    print(\"The difficulty is significantly different across different game levels.\")\n",
    "else:\n",
    "    print(\"The difficulty is not significantly different across different game levels.\")"
   ]
  },
  {
   "cell_type": "markdown",
   "id": "8cae7e1f",
   "metadata": {},
   "source": [
    "In this example, we first load the dataset using the pandas library, and then group the data by the game level. We then apply the f_oneway() function from the scipy.stats library to perform the one-way ANOVA test, which tests whether there is a significant difference in difficulty across different game levels. Finally, we print the F-value and p-value, and check whether the p-value is less than 0.05 (our chosen significance level) to determine whether the difficulty is significantly different across different game levels.\n",
    "\n"
   ]
  },
  {
   "cell_type": "code",
   "execution_count": null,
   "id": "390bc773",
   "metadata": {},
   "outputs": [],
   "source": []
  }
 ],
 "metadata": {
  "kernelspec": {
   "display_name": "Python 3 (ipykernel)",
   "language": "python",
   "name": "python3"
  },
  "language_info": {
   "codemirror_mode": {
    "name": "ipython",
    "version": 3
   },
   "file_extension": ".py",
   "mimetype": "text/x-python",
   "name": "python",
   "nbconvert_exporter": "python",
   "pygments_lexer": "ipython3",
   "version": "3.10.4"
  }
 },
 "nbformat": 4,
 "nbformat_minor": 5
}
