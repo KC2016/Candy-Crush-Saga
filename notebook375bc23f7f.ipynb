{
 "cells": [
  {
   "cell_type": "code",
   "execution_count": 69,
   "metadata": {
    "_cell_guid": "b1076dfc-b9ad-4769-8c92-a6c4dae69d19",
    "_uuid": "8f2839f25d086af736a60e9eeb907d3b93b6e0e5",
    "execution": {
     "iopub.execute_input": "2023-04-19T21:04:33.176219Z",
     "iopub.status.busy": "2023-04-19T21:04:33.175777Z",
     "iopub.status.idle": "2023-04-19T21:04:33.200147Z",
     "shell.execute_reply": "2023-04-19T21:04:33.198570Z",
     "shell.execute_reply.started": "2023-04-19T21:04:33.176181Z"
    }
   },
   "outputs": [],
   "source": [
    "# This Python 3 environment comes with many helpful analytics libraries installed\n",
    "# It is defined by the kaggle/python Docker image: https://github.com/kaggle/docker-python\n",
    "# For example, here's several helpful packages to load\n",
    "\n",
    "# import numpy as np # linear algebra\n",
    "# import pandas as pd # data processing, CSV file I/O (e.g. pd.read_csv)\n",
    "\n",
    "# Input data files are available in the read-only \"../input/\" directory\n",
    "# For example, running this (by clicking run or pressing Shift+Enter) will list all files under the input directory\n",
    "\n",
    "# import os\n",
    "# for dirname, _, filenames in os.walk('/kaggle/input'):\n",
    "#     for filename in filenames:\n",
    "#         print(os.path.join(dirname, filename))\n",
    "\n",
    "# You can write up to 20GB to the current directory (/kaggle/working/) that gets preserved as output when you create a version using \"Save & Run All\" \n",
    "# You can also write temporary files to /kaggle/temp/, but they won't be saved outside of the current session"
   ]
  },
  {
   "cell_type": "code",
   "execution_count": 70,
   "metadata": {},
   "outputs": [],
   "source": [
    "# ! pip install plotnine"
   ]
  },
  {
   "cell_type": "code",
   "execution_count": 71,
   "metadata": {},
   "outputs": [],
   "source": [
    "# !/Users/kcondeixa/repositories/my_projects/candy_chush/env_candycrush/bin/python3 -m pip install --upgrade pip\n"
   ]
  },
  {
   "cell_type": "code",
   "execution_count": 118,
   "metadata": {
    "execution": {
     "iopub.execute_input": "2023-04-19T21:04:33.203369Z",
     "iopub.status.busy": "2023-04-19T21:04:33.202148Z",
     "iopub.status.idle": "2023-04-19T21:04:33.208112Z",
     "shell.execute_reply": "2023-04-19T21:04:33.207023Z",
     "shell.execute_reply.started": "2023-04-19T21:04:33.203327Z"
    }
   },
   "outputs": [],
   "source": [
    "import pandas as pd\n",
    "import numpy as np\n",
    "import matplotlib.pyplot as plt\n",
    "from mpl_toolkits.mplot3d import Axes3D\n",
    "from scipy.stats import t\n",
    "from matplotlib.ticker import PercentFormatter\n",
    "\n",
    "from plotnine import *\n",
    "# import ggplot, aes, geom_line, scale_x_continuous, scale_y_continuous, ylab, ggtitle, element_text\n",
    "# from plotnine.scales import percent"
   ]
  },
  {
   "cell_type": "code",
   "execution_count": 119,
   "metadata": {
    "execution": {
     "iopub.execute_input": "2023-04-19T21:04:33.212141Z",
     "iopub.status.busy": "2023-04-19T21:04:33.211073Z",
     "iopub.status.idle": "2023-04-19T21:04:33.251256Z",
     "shell.execute_reply": "2023-04-19T21:04:33.250043Z",
     "shell.execute_reply.started": "2023-04-19T21:04:33.212101Z"
    }
   },
   "outputs": [
    {
     "data": {
      "text/html": [
       "<div>\n",
       "<style scoped>\n",
       "    .dataframe tbody tr th:only-of-type {\n",
       "        vertical-align: middle;\n",
       "    }\n",
       "\n",
       "    .dataframe tbody tr th {\n",
       "        vertical-align: top;\n",
       "    }\n",
       "\n",
       "    .dataframe thead th {\n",
       "        text-align: right;\n",
       "    }\n",
       "</style>\n",
       "<table border=\"1\" class=\"dataframe\">\n",
       "  <thead>\n",
       "    <tr style=\"text-align: right;\">\n",
       "      <th></th>\n",
       "      <th>player_id</th>\n",
       "      <th>dt</th>\n",
       "      <th>level</th>\n",
       "      <th>num_attempts</th>\n",
       "      <th>num_success</th>\n",
       "    </tr>\n",
       "  </thead>\n",
       "  <tbody>\n",
       "    <tr>\n",
       "      <th>0</th>\n",
       "      <td>6dd5af4c7228fa353d505767143f5815</td>\n",
       "      <td>2014-01-04</td>\n",
       "      <td>4</td>\n",
       "      <td>3</td>\n",
       "      <td>1</td>\n",
       "    </tr>\n",
       "    <tr>\n",
       "      <th>1</th>\n",
       "      <td>c7ec97c39349ab7e4d39b4f74062ec13</td>\n",
       "      <td>2014-01-01</td>\n",
       "      <td>8</td>\n",
       "      <td>4</td>\n",
       "      <td>1</td>\n",
       "    </tr>\n",
       "    <tr>\n",
       "      <th>2</th>\n",
       "      <td>c7ec97c39349ab7e4d39b4f74062ec13</td>\n",
       "      <td>2014-01-05</td>\n",
       "      <td>12</td>\n",
       "      <td>6</td>\n",
       "      <td>0</td>\n",
       "    </tr>\n",
       "    <tr>\n",
       "      <th>3</th>\n",
       "      <td>a32c5e9700ed356dc8dd5bb3230c5227</td>\n",
       "      <td>2014-01-03</td>\n",
       "      <td>11</td>\n",
       "      <td>1</td>\n",
       "      <td>1</td>\n",
       "    </tr>\n",
       "    <tr>\n",
       "      <th>4</th>\n",
       "      <td>a32c5e9700ed356dc8dd5bb3230c5227</td>\n",
       "      <td>2014-01-07</td>\n",
       "      <td>15</td>\n",
       "      <td>6</td>\n",
       "      <td>0</td>\n",
       "    </tr>\n",
       "  </tbody>\n",
       "</table>\n",
       "</div>"
      ],
      "text/plain": [
       "                          player_id          dt  level  num_attempts   \n",
       "0  6dd5af4c7228fa353d505767143f5815  2014-01-04      4             3  \\\n",
       "1  c7ec97c39349ab7e4d39b4f74062ec13  2014-01-01      8             4   \n",
       "2  c7ec97c39349ab7e4d39b4f74062ec13  2014-01-05     12             6   \n",
       "3  a32c5e9700ed356dc8dd5bb3230c5227  2014-01-03     11             1   \n",
       "4  a32c5e9700ed356dc8dd5bb3230c5227  2014-01-07     15             6   \n",
       "\n",
       "   num_success  \n",
       "0            1  \n",
       "1            1  \n",
       "2            0  \n",
       "3            1  \n",
       "4            0  "
      ]
     },
     "execution_count": 119,
     "metadata": {},
     "output_type": "execute_result"
    }
   ],
   "source": [
    "df = pd.read_csv('data/candy_crush.csv')\n",
    "df.head()"
   ]
  },
  {
   "cell_type": "code",
   "execution_count": 120,
   "metadata": {
    "execution": {
     "iopub.execute_input": "2023-04-19T21:04:33.254010Z",
     "iopub.status.busy": "2023-04-19T21:04:33.253614Z",
     "iopub.status.idle": "2023-04-19T21:04:33.264193Z",
     "shell.execute_reply": "2023-04-19T21:04:33.262735Z",
     "shell.execute_reply.started": "2023-04-19T21:04:33.253969Z"
    }
   },
   "outputs": [
    {
     "data": {
      "text/plain": [
       "(16865, 5)"
      ]
     },
     "execution_count": 120,
     "metadata": {},
     "output_type": "execute_result"
    }
   ],
   "source": [
    "df.shape"
   ]
  },
  {
   "cell_type": "code",
   "execution_count": 121,
   "metadata": {
    "execution": {
     "iopub.execute_input": "2023-04-19T21:04:33.266816Z",
     "iopub.status.busy": "2023-04-19T21:04:33.266189Z",
     "iopub.status.idle": "2023-04-19T21:04:33.283978Z",
     "shell.execute_reply": "2023-04-19T21:04:33.282608Z",
     "shell.execute_reply.started": "2023-04-19T21:04:33.266765Z"
    }
   },
   "outputs": [
    {
     "name": "stdout",
     "output_type": "stream",
     "text": [
      "<class 'pandas.core.frame.DataFrame'>\n",
      "RangeIndex: 16865 entries, 0 to 16864\n",
      "Data columns (total 5 columns):\n",
      " #   Column        Non-Null Count  Dtype \n",
      "---  ------        --------------  ----- \n",
      " 0   player_id     16865 non-null  object\n",
      " 1   dt            16865 non-null  object\n",
      " 2   level         16865 non-null  int64 \n",
      " 3   num_attempts  16865 non-null  int64 \n",
      " 4   num_success   16865 non-null  int64 \n",
      "dtypes: int64(3), object(2)\n",
      "memory usage: 658.9+ KB\n"
     ]
    }
   ],
   "source": [
    "df.info()"
   ]
  },
  {
   "cell_type": "markdown",
   "metadata": {},
   "source": [
    "## Candy Crush Saga\n",
    "- The data set\n",
    "- Checking the data set\n",
    "- Computing level difficulty\n",
    "- Plotting difficulty profile\n",
    "- Spotting hard levels\n",
    "- Computing uncertainty\n",
    "- Showing uncertainty\n",
    "- A final metric\n",
    "- Should our level designer worry?"
   ]
  },
  {
   "cell_type": "markdown",
   "metadata": {},
   "source": [
    "## Metrics for free to play Games  \n",
    "\n",
    "- Retention rate: The percentage of players who continue to play the game over a period of time, such as one week, one month, or three months.\n",
    "\n",
    "- **Daily active users (DAU): The number of unique users who play the game each day. This metric measures the number of unique users who engage with a game on a daily basis. It is used to track the popularity of a game and to monitor changes in user engagement over time.**\n",
    "\n",
    "- Average revenue per user (ARPU): The total revenue generated by the game divided by the number of active users. This metric can help to measure the effectiveness of monetization strategies, such as in-app purchases or advertising.\n",
    "\n",
    "- **Level completion rate: The percentage of players who successfully complete each level of the game. This metric can help to measure the difficulty of the game and identify levels that may need to be adjusted to improve the player experience.**\n",
    "\n",
    "- Time spent in the game: The average amount of time that players spend in the game each day. This metric can help to measure engagement and identify features that are most popular among players.\n",
    "\n",
    "- Churn rate: The percentage of players who stop playing the game over a period of time, such as one week or one month. This metric can help to identify areas where the game may be losing players and potential reasons for player attrition.\n",
    "\n",
    "- Virality coefficient: The number of new users that are acquired through word-of-mouth or social sharing, divided by the total number of active users. This metric can help to measure the effectiveness of referral programs or social media marketing campaigns.\n"
   ]
  },
  {
   "cell_type": "code",
   "execution_count": 122,
   "metadata": {
    "execution": {
     "iopub.execute_input": "2023-04-19T21:04:33.286222Z",
     "iopub.status.busy": "2023-04-19T21:04:33.285843Z",
     "iopub.status.idle": "2023-04-19T21:04:33.307115Z",
     "shell.execute_reply": "2023-04-19T21:04:33.305690Z",
     "shell.execute_reply.started": "2023-04-19T21:04:33.286186Z"
    }
   },
   "outputs": [
    {
     "name": "stdout",
     "output_type": "stream",
     "text": [
      "4: 707\n",
      "8: 2010\n",
      "12: 1133\n",
      "11: 1017\n",
      "15: 3373\n",
      "9: 1242\n",
      "10: 893\n",
      "14: 854\n",
      "5: 1231\n",
      "3: 676\n",
      "6: 674\n",
      "13: 690\n",
      "1: 678\n",
      "2: 681\n",
      "7: 1006\n"
     ]
    }
   ],
   "source": [
    "# my_list = df['level']\n",
    "\n",
    "unique_values = df['level'].unique()\n",
    "for value in unique_values:\n",
    "    count = df[df['level'] == value].shape[0]\n",
    "    print(f\"{value}: {count}\")"
   ]
  },
  {
   "cell_type": "code",
   "execution_count": 123,
   "metadata": {
    "execution": {
     "iopub.execute_input": "2023-04-19T21:04:33.310484Z",
     "iopub.status.busy": "2023-04-19T21:04:33.309319Z",
     "iopub.status.idle": "2023-04-19T21:04:33.579890Z",
     "shell.execute_reply": "2023-04-19T21:04:33.578602Z",
     "shell.execute_reply.started": "2023-04-19T21:04:33.310445Z"
    }
   },
   "outputs": [
    {
     "data": {
      "text/plain": [
       "<AxesSubplot:>"
      ]
     },
     "execution_count": 123,
     "metadata": {},
     "output_type": "execute_result"
    },
    {
     "data": {
      "image/png": "[encoded data removed]",
      "text/plain": [
       "<Figure size 432x288 with 1 Axes>"
      ]
     },
     "metadata": {
      "needs_background": "light"
     },
     "output_type": "display_data"
    }
   ],
   "source": [
    " df['level'].hist()"
   ]
  },
  {
   "cell_type": "code",
   "execution_count": 124,
   "metadata": {
    "execution": {
     "iopub.execute_input": "2023-04-19T21:04:33.585020Z",
     "iopub.status.busy": "2023-04-19T21:04:33.584601Z",
     "iopub.status.idle": "2023-04-19T21:04:33.596437Z",
     "shell.execute_reply": "2023-04-19T21:04:33.594737Z",
     "shell.execute_reply.started": "2023-04-19T21:04:33.584980Z"
    }
   },
   "outputs": [
    {
     "name": "stdout",
     "output_type": "stream",
     "text": [
      "Mean: 9.287222057515566\n",
      "Median: 9.0\n",
      "Mode: 15\n",
      "Standard deviation: 4.343476812177027\n",
      "Minimum value: 1\n",
      "Maximum value: 15\n"
     ]
    }
   ],
   "source": [
    "def computing_column(column):\n",
    "    mean = df[column].mean()\n",
    "    median = df[column].median()\n",
    "    mode = df[column].mode()[0]\n",
    "    std_dev = df[column].std()\n",
    "    min_value = df[column].min()\n",
    "    max_value = df[column].max()\n",
    "    print(f\"Mean: {mean}\")\n",
    "    print(f\"Median: {median}\")\n",
    "    print(f\"Mode: {mode}\")\n",
    "    print(f\"Standard deviation: {std_dev}\")\n",
    "    print(f\"Minimum value: {min_value}\")\n",
    "    print(f\"Maximum value: {max_value}\")\n",
    "\n",
    "column = 'level'\n",
    "computing_column(column)       "
   ]
  },
  {
   "cell_type": "code",
   "execution_count": 125,
   "metadata": {
    "execution": {
     "iopub.execute_input": "2023-04-19T21:04:33.598271Z",
     "iopub.status.busy": "2023-04-19T21:04:33.597896Z",
     "iopub.status.idle": "2023-04-19T21:04:33.875298Z",
     "shell.execute_reply": "2023-04-19T21:04:33.874127Z",
     "shell.execute_reply.started": "2023-04-19T21:04:33.598236Z"
    }
   },
   "outputs": [
    {
     "data": {
      "text/plain": [
       "Text(0, 0.5, 'Level Values')"
      ]
     },
     "execution_count": 125,
     "metadata": {},
     "output_type": "execute_result"
    },
    {
     "data": {
      "image/png": "[encoded data removed]",
      "text/plain": [
       "<Figure size 432x288 with 1 Axes>"
      ]
     },
     "metadata": {
      "needs_background": "light"
     },
     "output_type": "display_data"
    }
   ],
   "source": [
    "category_counts = df[column].value_counts()\n",
    "plt.bar(category_counts.index, category_counts.values)\n",
    "plt.title('Column Level')\n",
    "plt.xlabel('Index')\n",
    "plt.ylabel('Level Values')"
   ]
  },
  {
   "cell_type": "code",
   "execution_count": 126,
   "metadata": {
    "execution": {
     "iopub.execute_input": "2023-04-19T21:04:33.878202Z",
     "iopub.status.busy": "2023-04-19T21:04:33.877861Z",
     "iopub.status.idle": "2023-04-19T21:04:33.894410Z",
     "shell.execute_reply": "2023-04-19T21:04:33.892902Z",
     "shell.execute_reply.started": "2023-04-19T21:04:33.878169Z"
    }
   },
   "outputs": [
    {
     "name": "stdout",
     "output_type": "stream",
     "text": [
      "<class 'pandas.core.frame.DataFrame'>\n",
      "RangeIndex: 16865 entries, 0 to 16864\n",
      "Data columns (total 6 columns):\n",
      " #   Column        Non-Null Count  Dtype  \n",
      "---  ------        --------------  -----  \n",
      " 0   player_id     16865 non-null  object \n",
      " 1   dt            16865 non-null  object \n",
      " 2   level         16865 non-null  int64  \n",
      " 3   num_attempts  16865 non-null  int64  \n",
      " 4   num_success   16865 non-null  int64  \n",
      " 5   success_rate  16822 non-null  float64\n",
      "dtypes: float64(1), int64(3), object(2)\n",
      "memory usage: 790.7+ KB\n"
     ]
    }
   ],
   "source": [
    "df['success_rate'] = df['num_success']/df['num_attempts']\n",
    "# df['success_rate'].shape\n",
    "df.info()"
   ]
  },
  {
   "cell_type": "markdown",
   "metadata": {},
   "source": [
    "### What is the probably to a user win?"
   ]
  },
  {
   "cell_type": "code",
   "execution_count": 127,
   "metadata": {},
   "outputs": [
    {
     "data": {
      "text/html": [
       "<div>\n",
       "<style scoped>\n",
       "    .dataframe tbody tr th:only-of-type {\n",
       "        vertical-align: middle;\n",
       "    }\n",
       "\n",
       "    .dataframe tbody tr th {\n",
       "        vertical-align: top;\n",
       "    }\n",
       "\n",
       "    .dataframe thead th {\n",
       "        text-align: right;\n",
       "    }\n",
       "</style>\n",
       "<table border=\"1\" class=\"dataframe\">\n",
       "  <thead>\n",
       "    <tr style=\"text-align: right;\">\n",
       "      <th></th>\n",
       "      <th>num_attempts</th>\n",
       "      <th>num_success</th>\n",
       "    </tr>\n",
       "    <tr>\n",
       "      <th>level</th>\n",
       "      <th></th>\n",
       "      <th></th>\n",
       "    </tr>\n",
       "  </thead>\n",
       "  <tbody>\n",
       "    <tr>\n",
       "      <th>1</th>\n",
       "      <td>1322</td>\n",
       "      <td>818</td>\n",
       "    </tr>\n",
       "    <tr>\n",
       "      <th>2</th>\n",
       "      <td>1285</td>\n",
       "      <td>666</td>\n",
       "    </tr>\n",
       "    <tr>\n",
       "      <th>3</th>\n",
       "      <td>1546</td>\n",
       "      <td>662</td>\n",
       "    </tr>\n",
       "    <tr>\n",
       "      <th>4</th>\n",
       "      <td>1893</td>\n",
       "      <td>705</td>\n",
       "    </tr>\n",
       "    <tr>\n",
       "      <th>5</th>\n",
       "      <td>6937</td>\n",
       "      <td>634</td>\n",
       "    </tr>\n",
       "    <tr>\n",
       "      <th>6</th>\n",
       "      <td>1591</td>\n",
       "      <td>668</td>\n",
       "    </tr>\n",
       "    <tr>\n",
       "      <th>7</th>\n",
       "      <td>4526</td>\n",
       "      <td>614</td>\n",
       "    </tr>\n",
       "    <tr>\n",
       "      <th>8</th>\n",
       "      <td>15816</td>\n",
       "      <td>641</td>\n",
       "    </tr>\n",
       "    <tr>\n",
       "      <th>9</th>\n",
       "      <td>8241</td>\n",
       "      <td>670</td>\n",
       "    </tr>\n",
       "    <tr>\n",
       "      <th>10</th>\n",
       "      <td>3282</td>\n",
       "      <td>617</td>\n",
       "    </tr>\n",
       "    <tr>\n",
       "      <th>11</th>\n",
       "      <td>5575</td>\n",
       "      <td>603</td>\n",
       "    </tr>\n",
       "    <tr>\n",
       "      <th>12</th>\n",
       "      <td>6868</td>\n",
       "      <td>659</td>\n",
       "    </tr>\n",
       "    <tr>\n",
       "      <th>13</th>\n",
       "      <td>1327</td>\n",
       "      <td>686</td>\n",
       "    </tr>\n",
       "    <tr>\n",
       "      <th>14</th>\n",
       "      <td>2772</td>\n",
       "      <td>777</td>\n",
       "    </tr>\n",
       "    <tr>\n",
       "      <th>15</th>\n",
       "      <td>30374</td>\n",
       "      <td>1157</td>\n",
       "    </tr>\n",
       "  </tbody>\n",
       "</table>\n",
       "</div>"
      ],
      "text/plain": [
       "       num_attempts  num_success\n",
       "level                           \n",
       "1              1322          818\n",
       "2              1285          666\n",
       "3              1546          662\n",
       "4              1893          705\n",
       "5              6937          634\n",
       "6              1591          668\n",
       "7              4526          614\n",
       "8             15816          641\n",
       "9              8241          670\n",
       "10             3282          617\n",
       "11             5575          603\n",
       "12             6868          659\n",
       "13             1327          686\n",
       "14             2772          777\n",
       "15            30374         1157"
      ]
     },
     "execution_count": 127,
     "metadata": {},
     "output_type": "execute_result"
    }
   ],
   "source": [
    "difficulty = df.groupby('level').agg({'num_attempts':'sum', 'num_success': 'sum'})\n",
    "difficulty"
   ]
  },
  {
   "cell_type": "code",
   "execution_count": 128,
   "metadata": {},
   "outputs": [],
   "source": [
    "difficulty['p_win'] = (difficulty['num_success']/difficulty['num_attempts'])"
   ]
  },
  {
   "cell_type": "code",
   "execution_count": 129,
   "metadata": {},
   "outputs": [],
   "source": [
    "difficulty = difficulty.reset_index()"
   ]
  },
  {
   "cell_type": "code",
   "execution_count": 130,
   "metadata": {},
   "outputs": [
    {
     "data": {
      "text/html": [
       "<div>\n",
       "<style scoped>\n",
       "    .dataframe tbody tr th:only-of-type {\n",
       "        vertical-align: middle;\n",
       "    }\n",
       "\n",
       "    .dataframe tbody tr th {\n",
       "        vertical-align: top;\n",
       "    }\n",
       "\n",
       "    .dataframe thead th {\n",
       "        text-align: right;\n",
       "    }\n",
       "</style>\n",
       "<table border=\"1\" class=\"dataframe\">\n",
       "  <thead>\n",
       "    <tr style=\"text-align: right;\">\n",
       "      <th></th>\n",
       "      <th>level</th>\n",
       "      <th>num_attempts</th>\n",
       "      <th>num_success</th>\n",
       "      <th>p_win</th>\n",
       "    </tr>\n",
       "  </thead>\n",
       "  <tbody>\n",
       "    <tr>\n",
       "      <th>0</th>\n",
       "      <td>1</td>\n",
       "      <td>1322</td>\n",
       "      <td>818</td>\n",
       "      <td>0.618759</td>\n",
       "    </tr>\n",
       "    <tr>\n",
       "      <th>1</th>\n",
       "      <td>2</td>\n",
       "      <td>1285</td>\n",
       "      <td>666</td>\n",
       "      <td>0.518288</td>\n",
       "    </tr>\n",
       "    <tr>\n",
       "      <th>2</th>\n",
       "      <td>3</td>\n",
       "      <td>1546</td>\n",
       "      <td>662</td>\n",
       "      <td>0.428202</td>\n",
       "    </tr>\n",
       "    <tr>\n",
       "      <th>3</th>\n",
       "      <td>4</td>\n",
       "      <td>1893</td>\n",
       "      <td>705</td>\n",
       "      <td>0.372425</td>\n",
       "    </tr>\n",
       "    <tr>\n",
       "      <th>4</th>\n",
       "      <td>5</td>\n",
       "      <td>6937</td>\n",
       "      <td>634</td>\n",
       "      <td>0.091394</td>\n",
       "    </tr>\n",
       "    <tr>\n",
       "      <th>5</th>\n",
       "      <td>6</td>\n",
       "      <td>1591</td>\n",
       "      <td>668</td>\n",
       "      <td>0.419862</td>\n",
       "    </tr>\n",
       "    <tr>\n",
       "      <th>6</th>\n",
       "      <td>7</td>\n",
       "      <td>4526</td>\n",
       "      <td>614</td>\n",
       "      <td>0.135661</td>\n",
       "    </tr>\n",
       "    <tr>\n",
       "      <th>7</th>\n",
       "      <td>8</td>\n",
       "      <td>15816</td>\n",
       "      <td>641</td>\n",
       "      <td>0.040529</td>\n",
       "    </tr>\n",
       "    <tr>\n",
       "      <th>8</th>\n",
       "      <td>9</td>\n",
       "      <td>8241</td>\n",
       "      <td>670</td>\n",
       "      <td>0.081301</td>\n",
       "    </tr>\n",
       "    <tr>\n",
       "      <th>9</th>\n",
       "      <td>10</td>\n",
       "      <td>3282</td>\n",
       "      <td>617</td>\n",
       "      <td>0.187995</td>\n",
       "    </tr>\n",
       "    <tr>\n",
       "      <th>10</th>\n",
       "      <td>11</td>\n",
       "      <td>5575</td>\n",
       "      <td>603</td>\n",
       "      <td>0.108161</td>\n",
       "    </tr>\n",
       "    <tr>\n",
       "      <th>11</th>\n",
       "      <td>12</td>\n",
       "      <td>6868</td>\n",
       "      <td>659</td>\n",
       "      <td>0.095952</td>\n",
       "    </tr>\n",
       "    <tr>\n",
       "      <th>12</th>\n",
       "      <td>13</td>\n",
       "      <td>1327</td>\n",
       "      <td>686</td>\n",
       "      <td>0.516956</td>\n",
       "    </tr>\n",
       "    <tr>\n",
       "      <th>13</th>\n",
       "      <td>14</td>\n",
       "      <td>2772</td>\n",
       "      <td>777</td>\n",
       "      <td>0.280303</td>\n",
       "    </tr>\n",
       "    <tr>\n",
       "      <th>14</th>\n",
       "      <td>15</td>\n",
       "      <td>30374</td>\n",
       "      <td>1157</td>\n",
       "      <td>0.038092</td>\n",
       "    </tr>\n",
       "  </tbody>\n",
       "</table>\n",
       "</div>"
      ],
      "text/plain": [
       "    level  num_attempts  num_success     p_win\n",
       "0       1          1322          818  0.618759\n",
       "1       2          1285          666  0.518288\n",
       "2       3          1546          662  0.428202\n",
       "3       4          1893          705  0.372425\n",
       "4       5          6937          634  0.091394\n",
       "5       6          1591          668  0.419862\n",
       "6       7          4526          614  0.135661\n",
       "7       8         15816          641  0.040529\n",
       "8       9          8241          670  0.081301\n",
       "9      10          3282          617  0.187995\n",
       "10     11          5575          603  0.108161\n",
       "11     12          6868          659  0.095952\n",
       "12     13          1327          686  0.516956\n",
       "13     14          2772          777  0.280303\n",
       "14     15         30374         1157  0.038092"
      ]
     },
     "execution_count": 130,
     "metadata": {},
     "output_type": "execute_result"
    }
   ],
   "source": [
    "difficulty\n"
   ]
  },
  {
   "cell_type": "code",
   "execution_count": 131,
   "metadata": {},
   "outputs": [
    {
     "data": {
      "text/html": [
       "<div>\n",
       "<style scoped>\n",
       "    .dataframe tbody tr th:only-of-type {\n",
       "        vertical-align: middle;\n",
       "    }\n",
       "\n",
       "    .dataframe tbody tr th {\n",
       "        vertical-align: top;\n",
       "    }\n",
       "\n",
       "    .dataframe thead th {\n",
       "        text-align: right;\n",
       "    }\n",
       "</style>\n",
       "<table border=\"1\" class=\"dataframe\">\n",
       "  <thead>\n",
       "    <tr style=\"text-align: right;\">\n",
       "      <th></th>\n",
       "      <th>level</th>\n",
       "      <th>num_attempts</th>\n",
       "      <th>num_success</th>\n",
       "      <th>p_win</th>\n",
       "      <th>error</th>\n",
       "    </tr>\n",
       "  </thead>\n",
       "  <tbody>\n",
       "    <tr>\n",
       "      <th>0</th>\n",
       "      <td>1</td>\n",
       "      <td>1322</td>\n",
       "      <td>818</td>\n",
       "      <td>0.618759</td>\n",
       "      <td>0.013358</td>\n",
       "    </tr>\n",
       "    <tr>\n",
       "      <th>1</th>\n",
       "      <td>2</td>\n",
       "      <td>1285</td>\n",
       "      <td>666</td>\n",
       "      <td>0.518288</td>\n",
       "      <td>0.013939</td>\n",
       "    </tr>\n",
       "    <tr>\n",
       "      <th>2</th>\n",
       "      <td>3</td>\n",
       "      <td>1546</td>\n",
       "      <td>662</td>\n",
       "      <td>0.428202</td>\n",
       "      <td>0.012585</td>\n",
       "    </tr>\n",
       "    <tr>\n",
       "      <th>3</th>\n",
       "      <td>4</td>\n",
       "      <td>1893</td>\n",
       "      <td>705</td>\n",
       "      <td>0.372425</td>\n",
       "      <td>0.011112</td>\n",
       "    </tr>\n",
       "    <tr>\n",
       "      <th>4</th>\n",
       "      <td>5</td>\n",
       "      <td>6937</td>\n",
       "      <td>634</td>\n",
       "      <td>0.091394</td>\n",
       "      <td>0.003460</td>\n",
       "    </tr>\n",
       "  </tbody>\n",
       "</table>\n",
       "</div>"
      ],
      "text/plain": [
       "   level  num_attempts  num_success     p_win     error\n",
       "0      1          1322          818  0.618759  0.013358\n",
       "1      2          1285          666  0.518288  0.013939\n",
       "2      3          1546          662  0.428202  0.012585\n",
       "3      4          1893          705  0.372425  0.011112\n",
       "4      5          6937          634  0.091394  0.003460"
      ]
     },
     "execution_count": 131,
     "metadata": {},
     "output_type": "execute_result"
    }
   ],
   "source": [
    "# Compute the standard error of p_win for each level\n",
    "p_win = difficulty['p_win']\n",
    "attempts = difficulty['num_attempts']\n",
    "error = np.sqrt(p_win * (1 - p_win) / attempts)\n",
    "difficulty['error'] = error\n",
    "# Print the standard error Series\n",
    "difficulty.head()"
   ]
  },
  {
   "cell_type": "code",
   "execution_count": null,
   "metadata": {},
   "outputs": [],
   "source": []
  },
  {
   "cell_type": "code",
   "execution_count": 89,
   "metadata": {},
   "outputs": [],
   "source": [
    "# !jupyter kernelspec list\n"
   ]
  },
  {
   "cell_type": "code",
   "execution_count": 132,
   "metadata": {},
   "outputs": [
    {
     "data": {
      "image/png": "[encoded data removed]",
      "text/plain": [
       "<Figure size 640x480 with 1 Axes>"
      ]
     },
     "metadata": {},
     "output_type": "display_data"
    },
    {
     "data": {
      "text/plain": [
       "<ggplot: (8787133435880)>"
      ]
     },
     "execution_count": 132,
     "metadata": {},
     "output_type": "execute_result"
    }
   ],
   "source": [
    "from mizani.formatters import percent_format\n",
    "\n",
    "ggplot(data=difficulty, mapping=aes(x='level', y='p_win')) + \\\n",
    "    geom_line() + \\\n",
    "    scale_x_continuous(breaks=list(range(1, 16))) + \\\n",
    "    scale_y_continuous(labels=percent_format(2)) + \\\n",
    "    ylab(\"Probability of Winning Level\") + \\\n",
    "    ggtitle(\"Difficulty Level\") + \\\n",
    "    theme(plot_title=element_text(hjust = 0.5)) + \\\n",
    "    geom_hline(yintercept=0.1, linetype='dashed', color='red')"
   ]
  },
  {
   "cell_type": "code",
   "execution_count": 105,
   "metadata": {},
   "outputs": [
    {
     "name": "stdout",
     "output_type": "stream",
     "text": [
      "The probability of completing the episode without losing a single time is 9.447140934486e-12\n"
     ]
    }
   ],
   "source": [
    "# compute the probability of completing the episode without losing\n",
    "p = np.prod(difficulty['p_win'])\n",
    "\n",
    "# print out the result\n",
    "print(f\"The probability of completing the episode without losing a single time is {p:.12e}\")"
   ]
  },
  {
   "cell_type": "code",
   "execution_count": null,
   "metadata": {},
   "outputs": [],
   "source": [
    "\n"
   ]
  },
  {
   "cell_type": "code",
   "execution_count": null,
   "metadata": {},
   "outputs": [],
   "source": []
  },
  {
   "cell_type": "code",
   "execution_count": null,
   "metadata": {},
   "outputs": [],
   "source": []
  },
  {
   "cell_type": "code",
   "execution_count": 58,
   "metadata": {},
   "outputs": [
    {
     "name": "stdout",
     "output_type": "stream",
     "text": [
      "<class 'pandas.core.frame.DataFrame'>\n",
      "RangeIndex: 16865 entries, 0 to 16864\n",
      "Data columns (total 6 columns):\n",
      " #   Column        Non-Null Count  Dtype  \n",
      "---  ------        --------------  -----  \n",
      " 0   player_id     16865 non-null  object \n",
      " 1   dt            16865 non-null  object \n",
      " 2   level         16865 non-null  int64  \n",
      " 3   num_attempts  16865 non-null  int64  \n",
      " 4   num_success   16865 non-null  int64  \n",
      " 5   success_rate  16822 non-null  float64\n",
      "dtypes: float64(1), int64(3), object(2)\n",
      "memory usage: 790.7+ KB\n"
     ]
    }
   ],
   "source": [
    "df.info()"
   ]
  },
  {
   "cell_type": "code",
   "execution_count": 59,
   "metadata": {
    "execution": {
     "iopub.execute_input": "2023-04-19T21:04:33.896470Z",
     "iopub.status.busy": "2023-04-19T21:04:33.896125Z",
     "iopub.status.idle": "2023-04-19T21:04:33.909586Z",
     "shell.execute_reply": "2023-04-19T21:04:33.908355Z",
     "shell.execute_reply.started": "2023-04-19T21:04:33.896436Z"
    }
   },
   "outputs": [
    {
     "data": {
      "text/html": [
       "<div>\n",
       "<style scoped>\n",
       "    .dataframe tbody tr th:only-of-type {\n",
       "        vertical-align: middle;\n",
       "    }\n",
       "\n",
       "    .dataframe tbody tr th {\n",
       "        vertical-align: top;\n",
       "    }\n",
       "\n",
       "    .dataframe thead th {\n",
       "        text-align: right;\n",
       "    }\n",
       "</style>\n",
       "<table border=\"1\" class=\"dataframe\">\n",
       "  <thead>\n",
       "    <tr style=\"text-align: right;\">\n",
       "      <th></th>\n",
       "      <th>player_id</th>\n",
       "      <th>dt</th>\n",
       "      <th>level</th>\n",
       "      <th>num_attempts</th>\n",
       "      <th>num_success</th>\n",
       "      <th>success_rate</th>\n",
       "    </tr>\n",
       "  </thead>\n",
       "  <tbody>\n",
       "    <tr>\n",
       "      <th>0</th>\n",
       "      <td>6dd5af4c7228fa353d505767143f5815</td>\n",
       "      <td>2014-01-04</td>\n",
       "      <td>4</td>\n",
       "      <td>3</td>\n",
       "      <td>1</td>\n",
       "      <td>0.333333</td>\n",
       "    </tr>\n",
       "    <tr>\n",
       "      <th>1</th>\n",
       "      <td>c7ec97c39349ab7e4d39b4f74062ec13</td>\n",
       "      <td>2014-01-01</td>\n",
       "      <td>8</td>\n",
       "      <td>4</td>\n",
       "      <td>1</td>\n",
       "      <td>0.250000</td>\n",
       "    </tr>\n",
       "    <tr>\n",
       "      <th>2</th>\n",
       "      <td>c7ec97c39349ab7e4d39b4f74062ec13</td>\n",
       "      <td>2014-01-05</td>\n",
       "      <td>12</td>\n",
       "      <td>6</td>\n",
       "      <td>0</td>\n",
       "      <td>0.000000</td>\n",
       "    </tr>\n",
       "    <tr>\n",
       "      <th>3</th>\n",
       "      <td>a32c5e9700ed356dc8dd5bb3230c5227</td>\n",
       "      <td>2014-01-03</td>\n",
       "      <td>11</td>\n",
       "      <td>1</td>\n",
       "      <td>1</td>\n",
       "      <td>1.000000</td>\n",
       "    </tr>\n",
       "    <tr>\n",
       "      <th>4</th>\n",
       "      <td>a32c5e9700ed356dc8dd5bb3230c5227</td>\n",
       "      <td>2014-01-07</td>\n",
       "      <td>15</td>\n",
       "      <td>6</td>\n",
       "      <td>0</td>\n",
       "      <td>0.000000</td>\n",
       "    </tr>\n",
       "  </tbody>\n",
       "</table>\n",
       "</div>"
      ],
      "text/plain": [
       "                          player_id          dt  level  num_attempts   \n",
       "0  6dd5af4c7228fa353d505767143f5815  2014-01-04      4             3  \\\n",
       "1  c7ec97c39349ab7e4d39b4f74062ec13  2014-01-01      8             4   \n",
       "2  c7ec97c39349ab7e4d39b4f74062ec13  2014-01-05     12             6   \n",
       "3  a32c5e9700ed356dc8dd5bb3230c5227  2014-01-03     11             1   \n",
       "4  a32c5e9700ed356dc8dd5bb3230c5227  2014-01-07     15             6   \n",
       "\n",
       "   num_success  success_rate  \n",
       "0            1      0.333333  \n",
       "1            1      0.250000  \n",
       "2            0      0.000000  \n",
       "3            1      1.000000  \n",
       "4            0      0.000000  "
      ]
     },
     "execution_count": 59,
     "metadata": {},
     "output_type": "execute_result"
    }
   ],
   "source": [
    "df.head()"
   ]
  },
  {
   "cell_type": "code",
   "execution_count": 106,
   "metadata": {},
   "outputs": [
    {
     "data": {
      "image/png": "[encoded data removed]",
      "text/plain": [
       "<Figure size 720x432 with 1 Axes>"
      ]
     },
     "metadata": {
      "needs_background": "light"
     },
     "output_type": "display_data"
    }
   ],
   "source": [
    "grouped = df.groupby('level')['player_id'].nunique()\n",
    "grouped.plot(kind='bar', figsize=(10, 6))\n",
    "plt.xlabel('Level')\n",
    "plt.ylabel('Number of Players')\n",
    "plt.title('Number of Players by Level')\n",
    "plt.show()"
   ]
  },
  {
   "cell_type": "code",
   "execution_count": null,
   "metadata": {
    "execution": {
     "iopub.execute_input": "2023-04-19T21:04:33.911423Z",
     "iopub.status.busy": "2023-04-19T21:04:33.911102Z",
     "iopub.status.idle": "2023-04-19T21:04:33.917286Z",
     "shell.execute_reply": "2023-04-19T21:04:33.915764Z",
     "shell.execute_reply.started": "2023-04-19T21:04:33.911392Z"
    }
   },
   "outputs": [],
   "source": [
    "\n",
    "# # create a 3D scatter plot of difficulty, time, and success rate\n",
    "# fig = plt.figure()\n",
    "# ax = fig.add_subplot(111, projection='3d')\n",
    "# ax.scatter(df['level'], df['num_attempts'], df['num_success'])\n",
    "\n",
    "# # add labels to the plot\n",
    "# ax.set_title('Difficulty Profile')\n",
    "# ax.set_xlabel('Level')\n",
    "# ax.set_ylabel('num_attempt')\n",
    "# ax.set_zlabel('success_rate')"
   ]
  },
  {
   "cell_type": "code",
   "execution_count": null,
   "metadata": {
    "execution": {
     "iopub.execute_input": "2023-04-19T21:04:33.919119Z",
     "iopub.status.busy": "2023-04-19T21:04:33.918703Z",
     "iopub.status.idle": "2023-04-19T21:04:33.933361Z",
     "shell.execute_reply": "2023-04-19T21:04:33.931877Z",
     "shell.execute_reply.started": "2023-04-19T21:04:33.919071Z"
    }
   },
   "outputs": [],
   "source": [
    "num_cols = df.select_dtypes(include=np.number).columns.tolist()\n",
    "num_cols "
   ]
  },
  {
   "cell_type": "code",
   "execution_count": null,
   "metadata": {
    "execution": {
     "iopub.execute_input": "2023-04-19T21:04:33.935238Z",
     "iopub.status.busy": "2023-04-19T21:04:33.934794Z",
     "iopub.status.idle": "2023-04-19T21:04:34.167524Z",
     "shell.execute_reply": "2023-04-19T21:04:34.166213Z",
     "shell.execute_reply.started": "2023-04-19T21:04:33.935203Z"
    }
   },
   "outputs": [],
   "source": [
    "data = num_cols \n",
    "\n",
    "fig, ax = plt.subplots()\n",
    "ax.boxplot(df[num_cols])\n",
    "ax.set_xticklabels(num_cols)\n",
    "ax.set_title('Boxplots of Numerical Columns')\n",
    "plt.show()\n"
   ]
  },
  {
   "cell_type": "markdown",
   "metadata": {},
   "source": [
    "The number of attempts is many outliers. The number od success has too."
   ]
  },
  {
   "cell_type": "markdown",
   "metadata": {},
   "source": [
    "## The top hardest and easiest levels"
   ]
  },
  {
   "cell_type": "code",
   "execution_count": null,
   "metadata": {
    "execution": {
     "iopub.execute_input": "2023-04-19T21:04:34.169790Z",
     "iopub.status.busy": "2023-04-19T21:04:34.169348Z",
     "iopub.status.idle": "2023-04-19T21:05:56.537274Z",
     "shell.execute_reply": "2023-04-19T21:05:56.536249Z",
     "shell.execute_reply.started": "2023-04-19T21:04:34.169743Z"
    }
   },
   "outputs": [],
   "source": [
    "# sort the DataFrame by success rate in descending order\n",
    "df_sorted = df.sort_values(by='success_rate', ascending=False)\n",
    "\n",
    "# plot the data using a bar chart\n",
    "plt.bar(df_sorted['level'], df_sorted['success_rate'])\n",
    "plt.xticks(df_sorted['level'])\n",
    "plt.ylabel('Success Rate')\n",
    "plt.title('Difficulty Profile')\n",
    "plt.show()"
   ]
  },
  {
   "cell_type": "markdown",
   "metadata": {},
   "source": [
    "The most dificult level is the 8th, then 1st,4th and 6th. The easiest level is the 10th, followed by the 9th.\n",
    "The difficulty of the 8th level seems to be an obstacle that makes players leave the game, but it could be an strategy. It's hard to say without having more context."
   ]
  },
  {
   "cell_type": "markdown",
   "metadata": {},
   "source": [
    "## Level completion rate\n",
    "\n",
    "Number of players by level\n",
    "> Checking if a hight difficult in level 8 results in user dropout."
   ]
  },
  {
   "cell_type": "code",
   "execution_count": null,
   "metadata": {},
   "outputs": [],
   "source": [
    "grouped = df.groupby('level')['player_id'].nunique()\n",
    "grouped.plot(kind='bar', figsize=(10, 6))\n",
    "plt.xlabel('Level')\n",
    "plt.ylabel('Number of Players')\n",
    "plt.title('Number of Players by Level')\n",
    "plt.show()"
   ]
  },
  {
   "cell_type": "code",
   "execution_count": null,
   "metadata": {
    "execution": {
     "iopub.execute_input": "2023-04-19T21:05:56.541083Z",
     "iopub.status.busy": "2023-04-19T21:05:56.540718Z",
     "iopub.status.idle": "2023-04-19T21:05:56.557781Z",
     "shell.execute_reply": "2023-04-19T21:05:56.556639Z",
     "shell.execute_reply.started": "2023-04-19T21:05:56.541049Z"
    }
   },
   "outputs": [],
   "source": [
    "# group the data by player_id and get the maximum level reached by each player\n",
    "max_level_df = df.groupby('player_id')['level'].max()\n",
    "max_level_df\n",
    "\n",
    "# # create a new column indicating if the player stopped at level 8 or continued playing\n",
    "# df['stopped_at_level_8'] = max_level_df.apply(lambda x: x == 8)\n",
    "\n",
    "# # print the number of players who stopped at level 8 and who continued playing\n",
    "# print(df)\n",
    "\n",
    "\n",
    "# count number of players with max level <= 8\n",
    "num_players_level8_or_less = (max_level_df <= 8).sum()\n",
    "\n",
    "# count number of players with max level > 8\n",
    "num_players_above_level8 = (max_level_df > 8).sum()\n",
    "\n",
    "print(\"Number of players with max level 8 or less:\", num_players_level8_or_less)\n",
    "print(\"Number of players with max level above 8:\", num_players_above_level8)\n"
   ]
  },
  {
   "cell_type": "markdown",
   "metadata": {},
   "source": [
    "The number of users at levels higher than 8th is greater than up to this level. But, it doesn't mean that users are not droping out."
   ]
  },
  {
   "cell_type": "code",
   "execution_count": null,
   "metadata": {
    "scrolled": true
   },
   "outputs": [],
   "source": [
    "grouped = df.groupby('level')['player_id'].nunique()\n",
    "grouped.plot(kind='bar', figsize=(8, 5))\n",
    "plt.xlabel('Level')\n",
    "plt.ylabel('Number of Players')\n",
    "plt.title('Number of Players by Level')\n",
    "plt.show()"
   ]
  },
  {
   "cell_type": "markdown",
   "metadata": {},
   "source": [
    "Most of the players is in the last level (15) and many of them are in the level 8, the levels seem to be unbalances. However, I should have more information to understand the context to guess if there is some problem in these levels."
   ]
  },
  {
   "cell_type": "code",
   "execution_count": null,
   "metadata": {},
   "outputs": [],
   "source": [
    "# Avg levels played by user\n",
    "\n",
    "# # Group the data by player_id and calculate the mean of the \"level\" column\n",
    "# counts = df.groupby('level')['player_id'].count()\n",
    "\n",
    "# # pct = counts/counts.sum() * 100\n",
    "\n",
    "# # Create a bar graph to visualize the percentages\n",
    "# plt.bar(counts.index, counts.values)\n",
    "# plt.title('Number of Players per Level')\n",
    "# plt.xlabel('Level')\n",
    "# plt.ylabel('Players')\n",
    "# plt.show()"
   ]
  },
  {
   "cell_type": "code",
   "execution_count": null,
   "metadata": {
    "execution": {
     "iopub.execute_input": "2023-04-19T21:05:56.559413Z",
     "iopub.status.busy": "2023-04-19T21:05:56.559040Z",
     "iopub.status.idle": "2023-04-19T21:05:56.574733Z",
     "shell.execute_reply": "2023-04-19T21:05:56.573762Z",
     "shell.execute_reply.started": "2023-04-19T21:05:56.559377Z"
    }
   },
   "outputs": [],
   "source": [
    "df.info()"
   ]
  },
  {
   "cell_type": "code",
   "execution_count": null,
   "metadata": {},
   "outputs": [],
   "source": [
    "# Extract num_attempts and num_success columns\n",
    "num_attempts = df['num_attempts']\n",
    "num_success = df['num_success']\n",
    "\n",
    "# Create scatterplot\n",
    "plt.scatter(num_attempts, num_success)\n",
    "plt.title('Attempts vs Success')\n",
    "plt.xlabel('Number of Attempts')\n",
    "plt.ylabel('Number of Successes')\n",
    "plt.show()"
   ]
  },
  {
   "cell_type": "markdown",
   "metadata": {},
   "source": [
    "## Success rate by day "
   ]
  },
  {
   "cell_type": "code",
   "execution_count": null,
   "metadata": {
    "execution": {
     "iopub.execute_input": "2023-04-19T21:05:56.577066Z",
     "iopub.status.busy": "2023-04-19T21:05:56.576635Z",
     "iopub.status.idle": "2023-04-19T21:05:56.997645Z",
     "shell.execute_reply": "2023-04-19T21:05:56.996138Z",
     "shell.execute_reply.started": "2023-04-19T21:05:56.577030Z"
    }
   },
   "outputs": [],
   "source": [
    "# convert the 'dt' column to datetime\n",
    "df['dt'] = pd.to_datetime(df['dt'])\n",
    "\n",
    "# calculate the success rate for each level and each date\n",
    "success_rates = df.groupby(['level', 'dt'])['num_success'].sum() / df.groupby(['level', 'dt'])['num_attempts'].sum()\n",
    "\n",
    "# plot the success rate for each level over time\n",
    "fig, ax = plt.subplots(figsize=(10, 6))\n",
    "\n",
    "for level in success_rates.index.levels[0]:\n",
    "    ax.plot(success_rates.loc[level], label=f'Level {level}')\n",
    "\n",
    "ax.set_xlabel('Date')\n",
    "ax.set_ylabel('Success Rate')\n",
    "ax.set_title('Success Rate by Level over Time')\n",
    "ax.legend()\n",
    "\n",
    "plt.show()"
   ]
  },
  {
   "cell_type": "markdown",
   "metadata": {},
   "source": [
    "The success rate is more constant in the last levels.\n",
    "The level 10 was shown to have a peak on 2014-01-02, it could be investigating if having more information. The success rate in level 6 is pretty inconstant."
   ]
  },
  {
   "cell_type": "markdown",
   "metadata": {},
   "source": [
    "## Min and max date"
   ]
  },
  {
   "cell_type": "code",
   "execution_count": null,
   "metadata": {
    "execution": {
     "iopub.execute_input": "2023-04-19T21:05:56.999470Z",
     "iopub.status.busy": "2023-04-19T21:05:56.999130Z",
     "iopub.status.idle": "2023-04-19T21:05:57.006679Z",
     "shell.execute_reply": "2023-04-19T21:05:57.005833Z",
     "shell.execute_reply.started": "2023-04-19T21:05:56.999437Z"
    }
   },
   "outputs": [],
   "source": [
    "min_date = df.dt.min()\n",
    "max_date = df.dt.max()\n",
    "\n",
    "print('Mim date: ', min_date)\n",
    "print('Max date: ', max_date)"
   ]
  },
  {
   "cell_type": "markdown",
   "metadata": {},
   "source": [
    "The period of one week is to short to draw solid conclusions."
   ]
  },
  {
   "cell_type": "markdown",
   "metadata": {},
   "source": [
    "## Measuring uncertanties \n",
    " Using 95% of confidence interval for the mean of a population."
   ]
  },
  {
   "cell_type": "code",
   "execution_count": null,
   "metadata": {
    "execution": {
     "iopub.execute_input": "2023-04-19T21:05:57.299374Z",
     "iopub.status.busy": "2023-04-19T21:05:57.298965Z",
     "iopub.status.idle": "2023-04-19T21:05:57.316091Z",
     "shell.execute_reply": "2023-04-19T21:05:57.314519Z",
     "shell.execute_reply.started": "2023-04-19T21:05:57.299326Z"
    }
   },
   "outputs": [],
   "source": [
    "grouped = df.groupby('level')['num_attempts']\n",
    "\n",
    "# compute the mean and standard deviation of each group\n",
    "means = grouped.mean()\n",
    "stds = grouped.std()\n",
    "\n",
    "# compute the sample size and degrees of freedom for each group\n",
    "n = grouped.size()\n",
    "defree = n - 1\n",
    "\n",
    "# compute the standard error of the mean for each group\n",
    "se = stds / np.sqrt(n)\n",
    "\n",
    "# compute the t-value for a 95% confidence interval with the given degrees of freedom\n",
    "t_value = t.ppf(0.975, defree)\n",
    "\n",
    "# compute the lower and upper bounds of the confidence interval for each group\n",
    "lower = means - t_value * se\n",
    "upper = means + t_value * se\n",
    "\n",
    "# create a new DataFrame with the confidence intervals\n",
    "ci_df = pd.DataFrame({'mean': means, 'lower': lower, 'upper': upper})\n",
    "\n",
    "print(ci_df)"
   ]
  },
  {
   "cell_type": "code",
   "execution_count": null,
   "metadata": {
    "execution": {
     "iopub.execute_input": "2023-04-19T21:05:57.318177Z",
     "iopub.status.busy": "2023-04-19T21:05:57.317520Z",
     "iopub.status.idle": "2023-04-19T21:05:57.519403Z",
     "shell.execute_reply": "2023-04-19T21:05:57.518231Z",
     "shell.execute_reply.started": "2023-04-19T21:05:57.318139Z"
    }
   },
   "outputs": [],
   "source": [
    "# plot the mean number of attempts for each level with error bars showing the confidence intervals\n",
    "plt.errorbar(ci_df.index, ci_df['mean'], yerr=(ci_df['mean'] - ci_df['lower'], ci_df['upper'] - ci_df['mean']), fmt='o')\n",
    "\n",
    "# add labels and titles\n",
    "plt.xlabel('Level')\n",
    "plt.ylabel('Mean Number of Attempts')\n",
    "plt.title('Mean Number of Attempts by Level (95% Confidence Interval)')\n",
    "\n",
    "# show the plot\n",
    "plt.show()"
   ]
  },
  {
   "cell_type": "markdown",
   "metadata": {},
   "source": [
    "The level 11 was shows with higher uncertainty with a more spread out and less realiable values. On the other hand, the levels 2,3 and 13 were shown with lower uncertanties."
   ]
  },
  {
   "cell_type": "code",
   "execution_count": null,
   "metadata": {
    "execution": {
     "iopub.execute_input": "2023-04-19T21:05:57.521176Z",
     "iopub.status.busy": "2023-04-19T21:05:57.520809Z",
     "iopub.status.idle": "2023-04-19T21:05:57.532321Z",
     "shell.execute_reply": "2023-04-19T21:05:57.530966Z",
     "shell.execute_reply.started": "2023-04-19T21:05:57.521124Z"
    }
   },
   "outputs": [],
   "source": [
    "success_rates"
   ]
  },
  {
   "cell_type": "code",
   "execution_count": null,
   "metadata": {
    "execution": {
     "iopub.execute_input": "2023-04-19T21:05:57.535354Z",
     "iopub.status.busy": "2023-04-19T21:05:57.534175Z",
     "iopub.status.idle": "2023-04-19T21:05:57.548500Z",
     "shell.execute_reply": "2023-04-19T21:05:57.547136Z",
     "shell.execute_reply.started": "2023-04-19T21:05:57.535316Z"
    }
   },
   "outputs": [],
   "source": [
    "# df\n",
    "# check for null values and count them\n",
    "print(df.isnull().sum())"
   ]
  },
  {
   "cell_type": "code",
   "execution_count": null,
   "metadata": {
    "execution": {
     "iopub.execute_input": "2023-04-19T21:05:57.551640Z",
     "iopub.status.busy": "2023-04-19T21:05:57.550571Z",
     "iopub.status.idle": "2023-04-19T21:05:57.573942Z",
     "shell.execute_reply": "2023-04-19T21:05:57.572427Z",
     "shell.execute_reply.started": "2023-04-19T21:05:57.551581Z"
    }
   },
   "outputs": [],
   "source": [
    "# drop rows with nulls\n",
    "df_clean = df.dropna(subset=['success_rate'])\n",
    "df_clean.info()"
   ]
  },
  {
   "cell_type": "markdown",
   "metadata": {},
   "source": [
    "## Daily active users"
   ]
  },
  {
   "cell_type": "code",
   "execution_count": null,
   "metadata": {
    "execution": {
     "iopub.execute_input": "2023-04-19T21:05:57.576387Z",
     "iopub.status.busy": "2023-04-19T21:05:57.575785Z",
     "iopub.status.idle": "2023-04-19T21:05:57.590768Z",
     "shell.execute_reply": "2023-04-19T21:05:57.589607Z",
     "shell.execute_reply.started": "2023-04-19T21:05:57.576337Z"
    }
   },
   "outputs": [],
   "source": [
    "users_per_day = df.groupby('dt')['player_id'].nunique()\n",
    "print(users_per_day)"
   ]
  },
  {
   "cell_type": "code",
   "execution_count": null,
   "metadata": {
    "execution": {
     "iopub.execute_input": "2023-04-19T21:30:43.270186Z",
     "iopub.status.busy": "2023-04-19T21:30:43.269254Z",
     "iopub.status.idle": "2023-04-19T21:30:43.296132Z",
     "shell.execute_reply": "2023-04-19T21:30:43.295118Z",
     "shell.execute_reply.started": "2023-04-19T21:30:43.270141Z"
    }
   },
   "outputs": [],
   "source": [
    "# df['day_type'] = df['dt'].apply(lambda x: 'weekend' if x.weekday() in [5, 6] else 'workday')\n",
    "\n",
    "# create a new DataFrame with the number of users per day\n",
    "users_per_day_df = df.groupby('dt')['player_id'].nunique().reset_index()\n",
    "\n",
    "# add a new column to indicate whether the day is a weekend or weekday\n",
    "users_per_day_df['day_type'] = users_per_day_df['dt'].dt.day_name()\n",
    "# users_per_day_df['day_type_color'] = users_per_day_df['day_type'].apply(lambda x: 'blue' if x in ['Saturday', 'Sunday'] else 'red')\n",
    "# users_per_day_df\n",
    "# create the plot\n",
    "# plt.plot(users_per_day_df['dt'], users_per_day_df['player_id'], color=users_per_day_df['day_type_color'])\n",
    "# plt.xlabel('Date')\n",
    "# plt.ylabel('Number of users')\n",
    "# plt.title('Number of users per day')\n",
    "# plt.show()\n",
    "\n",
    "# rename column \n",
    "users_per_day_df = users_per_day_df.rename(columns={'player_id': 'n_players'})\n",
    "# users_per_day_df\n",
    "\n",
    "# users_per_day_df['day_type_color'] = users_per_day_df.day_type.map({'Monday': 'blue','Tuesday': 'blue', 'Wednesday': 'blue', 'Thursday': 'blue', 'Friday': 'blue', 'Saturday': 'red', 'Sunday': 'red'})\n",
    "\n",
    "users_per_day_df\n",
    "# plt.scatter(x=users_per_day_df.index, y=n_players.values, c=day_type_color.values)"
   ]
  },
  {
   "cell_type": "markdown",
   "metadata": {},
   "source": [
    "Wednesday is the day with less active players."
   ]
  },
  {
   "cell_type": "code",
   "execution_count": null,
   "metadata": {},
   "outputs": [],
   "source": [
    "sum_weekends = users_per_day_df.loc[(users_per_day_df['day_type'] == 'Saturday') | (users_per_day_df['day_type'] == 'Sunday')  , 'n_players'].sum()\n",
    "sum_workdays =  users_per_day_df['n_players'] - sum_weekends\n",
    "\n",
    "avg_weekends = sum_weekends/2\n",
    "avg_workdays = sum_weekends/5\n",
    "\n",
    "pct_weekends_over_weekdays = avg_weekends/avg_workdays\n",
    "\n",
    "print('The avg of players in weekends is ', avg_weekends)\n",
    "print('The avg of players in workdays is ', avg_workdays)\n",
    "print('The pct of players in weekends over workdays is ', pct_weekends_over_weekdays)\n",
    "# print(sum_weekends)\n",
    "# print(sum_workdays)\n",
    "    "
   ]
  },
  {
   "cell_type": "code",
   "execution_count": null,
   "metadata": {},
   "outputs": [],
   "source": []
  },
  {
   "cell_type": "code",
   "execution_count": null,
   "metadata": {},
   "outputs": [],
   "source": []
  },
  {
   "cell_type": "code",
   "execution_count": null,
   "metadata": {},
   "outputs": [],
   "source": []
  }
 ],
 "metadata": {
  "kernelspec": {
   "display_name": "Python 3 (ipykernel)",
   "language": "python",
   "name": "python3"
  },
  "language_info": {
   "codemirror_mode": {
    "name": "ipython",
    "version": 3
   },
   "file_extension": ".py",
   "mimetype": "text/x-python",
   "name": "python",
   "nbconvert_exporter": "python",
   "pygments_lexer": "ipython3",
   "version": "3.8.16"
  }
 },
 "nbformat": 4,
 "nbformat_minor": 4
}
